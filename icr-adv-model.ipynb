{
 "cells": [
  {
   "cell_type": "code",
   "execution_count": 1,
   "id": "840e1625",
   "metadata": {
    "_cell_guid": "b1076dfc-b9ad-4769-8c92-a6c4dae69d19",
    "_uuid": "8f2839f25d086af736a60e9eeb907d3b93b6e0e5",
    "execution": {
     "iopub.execute_input": "2023-06-03T02:00:47.751430Z",
     "iopub.status.busy": "2023-06-03T02:00:47.750854Z",
     "iopub.status.idle": "2023-06-03T02:00:58.184006Z",
     "shell.execute_reply": "2023-06-03T02:00:58.182729Z"
    },
    "papermill": {
     "duration": 10.442497,
     "end_time": "2023-06-03T02:00:58.186820",
     "exception": false,
     "start_time": "2023-06-03T02:00:47.744323",
     "status": "completed"
    },
    "tags": []
   },
   "outputs": [
    {
     "name": "stderr",
     "output_type": "stream",
     "text": [
      "/opt/conda/lib/python3.10/site-packages/tensorflow_io/python/ops/__init__.py:98: UserWarning: unable to load libtensorflow_io_plugins.so: unable to open file: libtensorflow_io_plugins.so, from paths: ['/opt/conda/lib/python3.10/site-packages/tensorflow_io/python/ops/libtensorflow_io_plugins.so']\n",
      "caused by: ['/opt/conda/lib/python3.10/site-packages/tensorflow_io/python/ops/libtensorflow_io_plugins.so: undefined symbol: _ZN3tsl6StatusC1EN10tensorflow5error4CodeESt17basic_string_viewIcSt11char_traitsIcEENS_14SourceLocationE']\n",
      "  warnings.warn(f\"unable to load libtensorflow_io_plugins.so: {e}\")\n",
      "/opt/conda/lib/python3.10/site-packages/tensorflow_io/python/ops/__init__.py:104: UserWarning: file system plugins are not loaded: unable to open file: libtensorflow_io.so, from paths: ['/opt/conda/lib/python3.10/site-packages/tensorflow_io/python/ops/libtensorflow_io.so']\n",
      "caused by: ['/opt/conda/lib/python3.10/site-packages/tensorflow_io/python/ops/libtensorflow_io.so: undefined symbol: _ZTVN10tensorflow13GcsFileSystemE']\n",
      "  warnings.warn(f\"file system plugins are not loaded: {e}\")\n"
     ]
    }
   ],
   "source": [
    "import pandas as pd\n",
    "import numpy as np\n",
    "import os\n",
    "\n",
    "from sklearn.model_selection import StratifiedKFold, train_test_split\n",
    "\n",
    "import tensorflow as tf\n",
    "from tensorflow.keras.utils import Sequence\n",
    "from tensorflow.keras.callbacks import EarlyStopping, ReduceLROnPlateau, Callback\n",
    "from tensorflow.keras import regularizers as R\n",
    "from tensorflow.keras.models import Model, load_model, Sequential\n",
    "from tensorflow.keras import layers as L\n",
    "from tensorflow.keras import optimizers as O\n",
    "from tensorflow.keras import backend as K\n",
    "from tensorflow.keras.losses import binary_crossentropy\n",
    "tf.keras.utils.set_random_seed(722)"
   ]
  },
  {
   "cell_type": "code",
   "execution_count": 2,
   "id": "b3307d5f",
   "metadata": {
    "execution": {
     "iopub.execute_input": "2023-06-03T02:00:58.198098Z",
     "iopub.status.busy": "2023-06-03T02:00:58.197198Z",
     "iopub.status.idle": "2023-06-03T02:00:58.309584Z",
     "shell.execute_reply": "2023-06-03T02:00:58.308678Z"
    },
    "papermill": {
     "duration": 0.120846,
     "end_time": "2023-06-03T02:00:58.312123",
     "exception": false,
     "start_time": "2023-06-03T02:00:58.191277",
     "status": "completed"
    },
    "tags": []
   },
   "outputs": [],
   "source": [
    "train_df = pd.read_csv('/kaggle/input/icr-identify-age-related-conditions/train.csv', index_col='Id')\n",
    "test_df = pd.read_csv('/kaggle/input/icr-identify-age-related-conditions/test.csv', index_col='Id')\n",
    "\n",
    "train_df['EJ'] = train_df['EJ'].replace({'A': 0, 'B': 1})\n",
    "test_df['EJ'] = test_df['EJ'].replace({'A': 0, 'B': 1})\n",
    "\n",
    "nan_fill = train_df.isna().any()\n",
    "nan_fill *= train_df.min() - train_df.max()\n",
    "nan_fill[nan_fill == 0] = train_df.median()\n",
    "train_df = train_df.fillna(nan_fill)\n",
    "test_df = test_df.fillna(nan_fill)"
   ]
  },
  {
   "cell_type": "code",
   "execution_count": 3,
   "id": "7fe569be",
   "metadata": {
    "execution": {
     "iopub.execute_input": "2023-06-03T02:00:58.322817Z",
     "iopub.status.busy": "2023-06-03T02:00:58.321821Z",
     "iopub.status.idle": "2023-06-03T02:00:58.327476Z",
     "shell.execute_reply": "2023-06-03T02:00:58.326647Z"
    },
    "papermill": {
     "duration": 0.013516,
     "end_time": "2023-06-03T02:00:58.329850",
     "exception": false,
     "start_time": "2023-06-03T02:00:58.316334",
     "status": "completed"
    },
    "tags": []
   },
   "outputs": [],
   "source": [
    "X_test = test_df.values"
   ]
  },
  {
   "cell_type": "code",
   "execution_count": 4,
   "id": "e3b5f2c0",
   "metadata": {
    "execution": {
     "iopub.execute_input": "2023-06-03T02:00:58.340908Z",
     "iopub.status.busy": "2023-06-03T02:00:58.340117Z",
     "iopub.status.idle": "2023-06-03T02:00:58.367681Z",
     "shell.execute_reply": "2023-06-03T02:00:58.366717Z"
    },
    "papermill": {
     "duration": 0.036135,
     "end_time": "2023-06-03T02:00:58.370321",
     "exception": false,
     "start_time": "2023-06-03T02:00:58.334186",
     "status": "completed"
    },
    "tags": []
   },
   "outputs": [],
   "source": [
    "@tf.keras.utils.register_keras_serializable()\n",
    "def smish(x):\n",
    "    return x * K.tanh(K.log(1 + K.sigmoid(x)))\n",
    "\n",
    "\n",
    "@tf.keras.utils.register_keras_serializable()\n",
    "class GatedLinearUnit(L.Layer):\n",
    "    def __init__(self, units, **kwargs):\n",
    "        super().__init__(**kwargs)\n",
    "        self.linear = L.Dense(units)\n",
    "        self.sigmoid = L.Dense(units, activation=\"sigmoid\")\n",
    "        self.units = units\n",
    "\n",
    "    def get_config(self):\n",
    "        config = super().get_config()\n",
    "        config['units'] = self.units\n",
    "        return config\n",
    "    \n",
    "    def call(self, inputs):\n",
    "        return self.linear(inputs) * self.sigmoid(inputs)\n",
    "    \n",
    "\n",
    "@tf.keras.utils.register_keras_serializable()\n",
    "class GatedResidualNetwork(L.Layer):\n",
    "    def __init__(self, units, dropout_rate, **kwargs):\n",
    "        super().__init__(**kwargs)\n",
    "        self.units = units\n",
    "        self.dropout_rate = dropout_rate\n",
    "        self.relu_dense = L.Dense(units, activation=smish)\n",
    "        self.linear_dense = L.Dense(units)\n",
    "        self.dropout = L.Dropout(dropout_rate)\n",
    "        self.gated_linear_unit = GatedLinearUnit(units)\n",
    "        self.layer_norm = L.LayerNormalization()\n",
    "        self.project = L.Dense(units)\n",
    "\n",
    "    def get_config(self):\n",
    "        config = super().get_config()\n",
    "        config['units'] = self.units\n",
    "        config['dropout_rate'] = self.dropout_rate\n",
    "        return config\n",
    "    \n",
    "    def call(self, inputs):\n",
    "        x = self.relu_dense(inputs)\n",
    "        x = self.linear_dense(x)\n",
    "        x = self.dropout(x)\n",
    "        if inputs.shape[-1] != self.units:\n",
    "            inputs = self.project(inputs)\n",
    "        x = inputs + self.gated_linear_unit(x)\n",
    "        x = self.layer_norm(x)\n",
    "        return x\n",
    "    \n",
    "\n",
    "@tf.keras.utils.register_keras_serializable()\n",
    "class VariableSelection(L.Layer):\n",
    "    def __init__(self, num_features, units, dropout_rate, **kwargs):\n",
    "        super().__init__(**kwargs)\n",
    "        self.grns = list()\n",
    "        # Create a GRN for each feature independently\n",
    "        for idx in range(num_features):\n",
    "            grn = GatedResidualNetwork(units, dropout_rate)\n",
    "            self.grns.append(grn)\n",
    "        # Create a GRN for the concatenation of all the features\n",
    "        self.grn_concat = GatedResidualNetwork(units, dropout_rate)\n",
    "        self.softmax = L.Dense(units=num_features, activation=\"softmax\")\n",
    "        self.num_features = num_features\n",
    "        self.units = units\n",
    "        self.dropout_rate = dropout_rate\n",
    "\n",
    "    def get_config(self):\n",
    "        config = super().get_config()\n",
    "        config['num_features'] = self.num_features\n",
    "        config['units'] = self.units\n",
    "        config['dropout_rate'] = self.dropout_rate\n",
    "        return config\n",
    "    \n",
    "    def call(self, inputs):\n",
    "        v = L.concatenate(inputs)\n",
    "        v = self.grn_concat(v)\n",
    "        v = tf.expand_dims(self.softmax(v), axis=-1)\n",
    "\n",
    "        x = []\n",
    "        for idx, input_ in enumerate(inputs):\n",
    "            x.append(self.grns[idx](input_))\n",
    "        x = tf.stack(x, axis=1)\n",
    "\n",
    "        outputs = tf.squeeze(tf.matmul(v, x, transpose_a=True), axis=1)\n",
    "        return outputs\n",
    "    \n",
    "\n",
    "@tf.keras.utils.register_keras_serializable()\n",
    "class VariableSelectionFlow(L.Layer):\n",
    "    def __init__(self, num_features, units, dropout_rate, dense_units=None, **kwargs):\n",
    "        super().__init__(**kwargs)\n",
    "        self.variableselection = VariableSelection(num_features, units, dropout_rate)\n",
    "        self.split = L.Lambda(lambda t: tf.split(t, num_features, axis=-1))\n",
    "        self.dense = dense_units\n",
    "        if dense_units:\n",
    "            self.dense_list = [L.Dense(dense_units, \\\n",
    "                                       activation='linear') \\\n",
    "                               for _ in tf.range(num_features)\n",
    "                              ]\n",
    "        self.num_features = num_features\n",
    "        self.units = units\n",
    "        self.dropout_rate = dropout_rate\n",
    "        self.dense_units = dense_units\n",
    "        \n",
    "    def get_config(self):\n",
    "        config = super().get_config()\n",
    "        config['num_features'] = self.num_features\n",
    "        config['units'] = self.units\n",
    "        config['dropout_rate'] = self.dropout_rate\n",
    "        config['dense_units'] = self.dense_units\n",
    "        return config        \n",
    "    \n",
    "    def call(self, inputs):\n",
    "        split_input = self.split(inputs)\n",
    "        if self.dense:\n",
    "            l = [self.dense_list[i](split_input[i]) for i in range(len(self.dense_list))]\n",
    "        else:\n",
    "            l = split_input\n",
    "        return self.variableselection(l)        "
   ]
  },
  {
   "cell_type": "code",
   "execution_count": 5,
   "id": "7bf476de",
   "metadata": {
    "execution": {
     "iopub.execute_input": "2023-06-03T02:00:58.381260Z",
     "iopub.status.busy": "2023-06-03T02:00:58.380523Z",
     "iopub.status.idle": "2023-06-03T02:00:58.392411Z",
     "shell.execute_reply": "2023-06-03T02:00:58.391126Z"
    },
    "papermill": {
     "duration": 0.020484,
     "end_time": "2023-06-03T02:00:58.395253",
     "exception": false,
     "start_time": "2023-06-03T02:00:58.374769",
     "status": "completed"
    },
    "tags": []
   },
   "outputs": [],
   "source": [
    "mfolder = '/kaggle/input/icr-tf-adv-models/'\n",
    "models_weights = os.listdir(mfolder)"
   ]
  },
  {
   "cell_type": "code",
   "execution_count": 6,
   "id": "5b51562c",
   "metadata": {
    "execution": {
     "iopub.execute_input": "2023-06-03T02:00:58.405915Z",
     "iopub.status.busy": "2023-06-03T02:00:58.404874Z",
     "iopub.status.idle": "2023-06-03T02:08:29.626452Z",
     "shell.execute_reply": "2023-06-03T02:08:29.625130Z"
    },
    "papermill": {
     "duration": 451.23204,
     "end_time": "2023-06-03T02:08:29.631500",
     "exception": false,
     "start_time": "2023-06-03T02:00:58.399460",
     "status": "completed"
    },
    "tags": []
   },
   "outputs": [
    {
     "name": "stdout",
     "output_type": "stream",
     "text": [
      "1/1 [==============================] - 12s 12s/step\n",
      "1/1 [==============================] - 11s 11s/step\n",
      "1/1 [==============================] - 11s 11s/step\n",
      "1/1 [==============================] - 11s 11s/step\n",
      "1/1 [==============================] - 12s 12s/step\n",
      "1/1 [==============================] - 12s 12s/step\n",
      "1/1 [==============================] - 12s 12s/step\n",
      "1/1 [==============================] - 11s 11s/step\n",
      "1/1 [==============================] - 11s 11s/step\n",
      "1/1 [==============================] - 11s 11s/step\n",
      "1/1 [==============================] - 11s 11s/step\n",
      "1/1 [==============================] - 11s 11s/step\n",
      "1/1 [==============================] - 11s 11s/step\n",
      "1/1 [==============================] - 11s 11s/step\n",
      "1/1 [==============================] - 12s 12s/step\n",
      "1/1 [==============================] - 12s 12s/step\n",
      "1/1 [==============================] - 12s 12s/step\n",
      "1/1 [==============================] - 11s 11s/step\n",
      "1/1 [==============================] - 11s 11s/step\n",
      "1/1 [==============================] - 11s 11s/step\n"
     ]
    }
   ],
   "source": [
    "y_pred = np.zeros_like(test_df.iloc[:,0].values, dtype=np.float32)\n",
    "batch_size = 32\n",
    "\n",
    "units_1 = 32\n",
    "drop_1 = 0.75\n",
    "dense_units = 8\n",
    "\n",
    "units_2 = 16\n",
    "drop_2 = 0.5\n",
    "\n",
    "units_3 = 8\n",
    "drop_3 = 0.25\n",
    "\n",
    "for n, model_weights in enumerate(models_weights):\n",
    "    inputs_1 = tf.keras.Input(shape=(56,))\n",
    "        \n",
    "    features_1 = VariableSelectionFlow(56, units_1, drop_1, dense_units=dense_units)(inputs_1)\n",
    "    features_2 = VariableSelectionFlow(units_1, units_2, drop_2)(features_1)         \n",
    "    features_3 = VariableSelectionFlow(units_2, units_3, drop_3)(features_2)         \n",
    "\n",
    "    outputs = L.Dense(1, activation=\"sigmoid\")(features_3)\n",
    "\n",
    "    model = Model(inputs=inputs_1, outputs=outputs)      \n",
    "    model.load_weights(mfolder + model_weights)\n",
    "    y_pred += model.predict(X_test)[:,0]\n"
   ]
  },
  {
   "cell_type": "code",
   "execution_count": 7,
   "id": "4fc3e69e",
   "metadata": {
    "execution": {
     "iopub.execute_input": "2023-06-03T02:08:29.650137Z",
     "iopub.status.busy": "2023-06-03T02:08:29.648807Z",
     "iopub.status.idle": "2023-06-03T02:08:29.672498Z",
     "shell.execute_reply": "2023-06-03T02:08:29.671160Z"
    },
    "papermill": {
     "duration": 0.036224,
     "end_time": "2023-06-03T02:08:29.675535",
     "exception": false,
     "start_time": "2023-06-03T02:08:29.639311",
     "status": "completed"
    },
    "tags": []
   },
   "outputs": [],
   "source": [
    "y_pred /= len(models_weights)\n",
    "p1 = y_pred\n",
    "p0 = 1 - p1\n",
    "p = np.stack([p0, p1]).T\n",
    "class_0_est_instances = p[:,0].sum()\n",
    "others_est_instances = p[:,1:].sum()\n",
    "new_p = p * np.array([[1/(class_0_est_instances if i==0 else others_est_instances) for i in range(p.shape[1])]])\n",
    "new_p = new_p / np.sum(new_p, axis=1, keepdims=1)\n",
    "\n",
    "test_df[['class_0', 'class_1']] = new_p\n",
    "test_df[['class_0', 'class_1']].to_csv('submission.csv')"
   ]
  },
  {
   "cell_type": "code",
   "execution_count": null,
   "id": "b73267cb",
   "metadata": {
    "papermill": {
     "duration": 0.007818,
     "end_time": "2023-06-03T02:08:29.691286",
     "exception": false,
     "start_time": "2023-06-03T02:08:29.683468",
     "status": "completed"
    },
    "tags": []
   },
   "outputs": [],
   "source": []
  },
  {
   "cell_type": "code",
   "execution_count": null,
   "id": "c4ae1a01",
   "metadata": {
    "papermill": {
     "duration": 0.00747,
     "end_time": "2023-06-03T02:08:29.706951",
     "exception": false,
     "start_time": "2023-06-03T02:08:29.699481",
     "status": "completed"
    },
    "tags": []
   },
   "outputs": [],
   "source": []
  }
 ],
 "metadata": {
  "kernelspec": {
   "display_name": "Python 3",
   "language": "python",
   "name": "python3"
  },
  "language_info": {
   "codemirror_mode": {
    "name": "ipython",
    "version": 3
   },
   "file_extension": ".py",
   "mimetype": "text/x-python",
   "name": "python",
   "nbconvert_exporter": "python",
   "pygments_lexer": "ipython3",
   "version": "3.10.10"
  },
  "papermill": {
   "default_parameters": {},
   "duration": 479.913375,
   "end_time": "2023-06-03T02:08:32.959092",
   "environment_variables": {},
   "exception": null,
   "input_path": "__notebook__.ipynb",
   "output_path": "__notebook__.ipynb",
   "parameters": {},
   "start_time": "2023-06-03T02:00:33.045717",
   "version": "2.4.0"
  }
 },
 "nbformat": 4,
 "nbformat_minor": 5
}
